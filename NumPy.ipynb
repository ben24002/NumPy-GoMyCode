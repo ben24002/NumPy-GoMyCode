{
 "cells": [
  {
   "cell_type": "code",
   "execution_count": 2,
   "id": "dc07cc04",
   "metadata": {},
   "outputs": [],
   "source": [
    "import numpy as np"
   ]
  },
  {
   "cell_type": "code",
   "execution_count": 3,
   "id": "73abbaa2",
   "metadata": {},
   "outputs": [],
   "source": [
    "new_array=np.array([1,2,3])"
   ]
  },
  {
   "cell_type": "code",
   "execution_count": 4,
   "id": "40f2a47e",
   "metadata": {},
   "outputs": [],
   "source": [
    "new_array2=np.array([[1,2,3],[4,5,6]])"
   ]
  },
  {
   "cell_type": "code",
   "execution_count": 5,
   "id": "6c26af49",
   "metadata": {},
   "outputs": [
    {
     "name": "stdout",
     "output_type": "stream",
     "text": [
      "[1 2 3]\n"
     ]
    }
   ],
   "source": [
    "print(new_array)"
   ]
  },
  {
   "cell_type": "code",
   "execution_count": 6,
   "id": "9449d948",
   "metadata": {},
   "outputs": [
    {
     "name": "stdout",
     "output_type": "stream",
     "text": [
      "[[1 2 3]\n",
      " [4 5 6]]\n"
     ]
    }
   ],
   "source": [
    "print(new_array2)"
   ]
  },
  {
   "cell_type": "code",
   "execution_count": 7,
   "id": "5cb020cc",
   "metadata": {},
   "outputs": [
    {
     "name": "stdout",
     "output_type": "stream",
     "text": [
      "0.3953509750219406\n"
     ]
    }
   ],
   "source": [
    "value=np.random.random()\n",
    "print(value)"
   ]
  },
  {
   "cell_type": "code",
   "execution_count": 8,
   "id": "9eecb5b3",
   "metadata": {},
   "outputs": [
    {
     "name": "stdout",
     "output_type": "stream",
     "text": [
      "[[0.63264411 0.0627756 ]\n",
      " [0.15356248 0.17642681]]\n"
     ]
    }
   ],
   "source": [
    "array=np.random.random((2,2))\n",
    "print(array)"
   ]
  },
  {
   "cell_type": "code",
   "execution_count": 9,
   "id": "15658d07",
   "metadata": {},
   "outputs": [
    {
     "name": "stdout",
     "output_type": "stream",
     "text": [
      "[[4 5 4 2]\n",
      " [6 3 2 3]]\n"
     ]
    }
   ],
   "source": [
    "array=np.random.randint(2, 10, size=(2,4))\n",
    "print(array)"
   ]
  },
  {
   "cell_type": "code",
   "execution_count": 10,
   "id": "7c02d68a",
   "metadata": {},
   "outputs": [
    {
     "name": "stdout",
     "output_type": "stream",
     "text": [
      "[0. 0. 0.]\n"
     ]
    }
   ],
   "source": [
    "array=np.zeros(3)\n",
    "print(array)"
   ]
  },
  {
   "cell_type": "code",
   "execution_count": 11,
   "id": "e328ed38",
   "metadata": {},
   "outputs": [
    {
     "name": "stdout",
     "output_type": "stream",
     "text": [
      "[5 5 5]\n"
     ]
    }
   ],
   "source": [
    "array=np.full(3, 5)\n",
    "print(array)"
   ]
  },
  {
   "cell_type": "code",
   "execution_count": 12,
   "id": "95423fa0",
   "metadata": {},
   "outputs": [
    {
     "name": "stdout",
     "output_type": "stream",
     "text": [
      "[[1. 0. 0. 0.]\n",
      " [0. 1. 0. 0.]\n",
      " [0. 0. 1. 0.]\n",
      " [0. 0. 0. 1.]]\n"
     ]
    }
   ],
   "source": [
    "array=np.eye(4)\n",
    "print(array)"
   ]
  },
  {
   "cell_type": "code",
   "execution_count": 13,
   "id": "2c08c60f",
   "metadata": {},
   "outputs": [
    {
     "name": "stdout",
     "output_type": "stream",
     "text": [
      "[1. 1. 1. 1. 1.]\n"
     ]
    }
   ],
   "source": [
    "array=np.ones(5)\n",
    "print(array)"
   ]
  },
  {
   "cell_type": "code",
   "execution_count": 14,
   "id": "92984c48",
   "metadata": {},
   "outputs": [],
   "source": [
    "x=np.array([[1,2],[3,4]], dtype=np.float64)\n",
    "y=np.array([[5,6],[7,8]], dtype=np.float64)"
   ]
  },
  {
   "cell_type": "code",
   "execution_count": 15,
   "id": "83cb1e23",
   "metadata": {},
   "outputs": [],
   "source": [
    "A=np.add(x, y)"
   ]
  },
  {
   "cell_type": "code",
   "execution_count": 16,
   "id": "662ca376",
   "metadata": {},
   "outputs": [
    {
     "data": {
      "text/plain": [
       "array([[ 6.,  8.],\n",
       "       [10., 12.]])"
      ]
     },
     "execution_count": 16,
     "metadata": {},
     "output_type": "execute_result"
    }
   ],
   "source": [
    "A"
   ]
  },
  {
   "cell_type": "code",
   "execution_count": 17,
   "id": "e2bc8007",
   "metadata": {},
   "outputs": [],
   "source": [
    "B=x+y"
   ]
  },
  {
   "cell_type": "code",
   "execution_count": 18,
   "id": "419516f0",
   "metadata": {},
   "outputs": [
    {
     "data": {
      "text/plain": [
       "array([[ 6.,  8.],\n",
       "       [10., 12.]])"
      ]
     },
     "execution_count": 18,
     "metadata": {},
     "output_type": "execute_result"
    }
   ],
   "source": [
    "B"
   ]
  },
  {
   "cell_type": "code",
   "execution_count": 19,
   "id": "46af9488",
   "metadata": {},
   "outputs": [],
   "source": [
    "Z=np.subtract(x, y)"
   ]
  },
  {
   "cell_type": "code",
   "execution_count": 20,
   "id": "464e3564",
   "metadata": {},
   "outputs": [
    {
     "data": {
      "text/plain": [
       "array([[-4., -4.],\n",
       "       [-4., -4.]])"
      ]
     },
     "execution_count": 20,
     "metadata": {},
     "output_type": "execute_result"
    }
   ],
   "source": [
    "Z"
   ]
  },
  {
   "cell_type": "code",
   "execution_count": 21,
   "id": "e1481e72",
   "metadata": {},
   "outputs": [],
   "source": [
    "Y=x-y"
   ]
  },
  {
   "cell_type": "code",
   "execution_count": 22,
   "id": "a0c509ad",
   "metadata": {},
   "outputs": [
    {
     "data": {
      "text/plain": [
       "array([[-4., -4.],\n",
       "       [-4., -4.]])"
      ]
     },
     "execution_count": 22,
     "metadata": {},
     "output_type": "execute_result"
    }
   ],
   "source": [
    "Y"
   ]
  },
  {
   "cell_type": "code",
   "execution_count": 23,
   "id": "46f32cd0",
   "metadata": {},
   "outputs": [],
   "source": [
    "a=np.array([1, 2, 3, 4, 5])\n",
    "b=np.array([5,7, 13])"
   ]
  },
  {
   "cell_type": "code",
   "execution_count": 24,
   "id": "c6a4ad92",
   "metadata": {},
   "outputs": [
    {
     "name": "stdout",
     "output_type": "stream",
     "text": [
      "entrer le nombre de column : \n"
     ]
    },
    {
     "ename": "ValueError",
     "evalue": "invalid literal for int() with base 10: ''",
     "output_type": "error",
     "traceback": [
      "\u001b[1;31m---------------------------------------------------------------------------\u001b[0m",
      "\u001b[1;31mValueError\u001b[0m                                Traceback (most recent call last)",
      "Input \u001b[1;32mIn [24]\u001b[0m, in \u001b[0;36m<cell line: 3>\u001b[1;34m()\u001b[0m\n\u001b[0;32m      1\u001b[0m \u001b[38;5;66;03m#question 1 :\u001b[39;00m\n\u001b[1;32m----> 3\u001b[0m column \u001b[38;5;241m=\u001b[39m \u001b[38;5;28;43mint\u001b[39;49m\u001b[43m(\u001b[49m\u001b[38;5;28;43minput\u001b[39;49m\u001b[43m(\u001b[49m\u001b[38;5;124;43m\"\u001b[39;49m\u001b[38;5;124;43mentrer le nombre de column : \u001b[39;49m\u001b[38;5;124;43m\"\u001b[39;49m\u001b[43m)\u001b[49m\u001b[43m)\u001b[49m\n\u001b[0;32m      5\u001b[0m array \u001b[38;5;241m=\u001b[39m np\u001b[38;5;241m.\u001b[39mrandom\u001b[38;5;241m.\u001b[39mrandint(\u001b[38;5;241m0\u001b[39m, \u001b[38;5;241m10\u001b[39m, size\u001b[38;5;241m=\u001b[39m(column))\n\u001b[0;32m      7\u001b[0m liste \u001b[38;5;241m=\u001b[39m array\u001b[38;5;241m.\u001b[39mtolist()\n",
      "\u001b[1;31mValueError\u001b[0m: invalid literal for int() with base 10: ''"
     ]
    }
   ],
   "source": [
    "#question 1 :\n",
    "\n",
    "column = int(input(\"entrer le nombre de column : \"))\n",
    "\n",
    "array = np.random.randint(0, 10, size=(column))\n",
    "\n",
    "liste = array.tolist() "
   ]
  },
  {
   "cell_type": "code",
   "execution_count": 25,
   "id": "19a87567",
   "metadata": {},
   "outputs": [
    {
     "ename": "NameError",
     "evalue": "name 'liste' is not defined",
     "output_type": "error",
     "traceback": [
      "\u001b[1;31m---------------------------------------------------------------------------\u001b[0m",
      "\u001b[1;31mNameError\u001b[0m                                 Traceback (most recent call last)",
      "Input \u001b[1;32mIn [25]\u001b[0m, in \u001b[0;36m<cell line: 1>\u001b[1;34m()\u001b[0m\n\u001b[1;32m----> 1\u001b[0m \u001b[43mliste\u001b[49m\n",
      "\u001b[1;31mNameError\u001b[0m: name 'liste' is not defined"
     ]
    }
   ],
   "source": [
    "liste"
   ]
  },
  {
   "cell_type": "code",
   "execution_count": 26,
   "id": "15aaecf8",
   "metadata": {},
   "outputs": [
    {
     "name": "stdout",
     "output_type": "stream",
     "text": [
      "entrer le nombre de column : \n"
     ]
    },
    {
     "ename": "ValueError",
     "evalue": "invalid literal for int() with base 10: ''",
     "output_type": "error",
     "traceback": [
      "\u001b[1;31m---------------------------------------------------------------------------\u001b[0m",
      "\u001b[1;31mValueError\u001b[0m                                Traceback (most recent call last)",
      "Input \u001b[1;32mIn [26]\u001b[0m, in \u001b[0;36m<cell line: 3>\u001b[1;34m()\u001b[0m\n\u001b[0;32m      1\u001b[0m \u001b[38;5;66;03m#question 2 :\u001b[39;00m\n\u001b[1;32m----> 3\u001b[0m column \u001b[38;5;241m=\u001b[39m \u001b[38;5;28;43mint\u001b[39;49m\u001b[43m(\u001b[49m\u001b[38;5;28;43minput\u001b[39;49m\u001b[43m(\u001b[49m\u001b[38;5;124;43m\"\u001b[39;49m\u001b[38;5;124;43mentrer le nombre de column : \u001b[39;49m\u001b[38;5;124;43m\"\u001b[39;49m\u001b[43m)\u001b[49m\u001b[43m)\u001b[49m\n\u001b[0;32m      4\u001b[0m ligne \u001b[38;5;241m=\u001b[39m \u001b[38;5;28mint\u001b[39m(\u001b[38;5;28minput\u001b[39m(\u001b[38;5;124m\"\u001b[39m\u001b[38;5;124mentrer le nombre de ligne : \u001b[39m\u001b[38;5;124m\"\u001b[39m))\n\u001b[0;32m      7\u001b[0m array \u001b[38;5;241m=\u001b[39m np\u001b[38;5;241m.\u001b[39mrandom\u001b[38;5;241m.\u001b[39mrandint(\u001b[38;5;241m0\u001b[39m, \u001b[38;5;241m10\u001b[39m, size\u001b[38;5;241m=\u001b[39m(ligne , column))\n",
      "\u001b[1;31mValueError\u001b[0m: invalid literal for int() with base 10: ''"
     ]
    }
   ],
   "source": [
    "#question 2 :\n",
    "\n",
    "column = int(input(\"entrer le nombre de column : \"))\n",
    "ligne = int(input(\"entrer le nombre de ligne : \"))\n",
    "\n",
    "\n",
    "array = np.random.randint(0, 10, size=(ligne , column))\n",
    "\n",
    "print(array)\n",
    "\n",
    "print(array.trace())"
   ]
  },
  {
   "cell_type": "code",
   "execution_count": 28,
   "id": "4d4ce257",
   "metadata": {},
   "outputs": [
    {
     "name": "stdout",
     "output_type": "stream",
     "text": [
      "entrer le nombre de column : 5\n",
      "entrer le nombre de ligne : 4\n",
      "entrer le valeur de x : 1\n"
     ]
    }
   ],
   "source": [
    "#question 3 :\n",
    "\n",
    "column = int(input(\"entrer le nombre de column : \"))\n",
    "ligne = int(input(\"entrer le nombre de ligne : \"))\n",
    "\n",
    "\n",
    "array = np.random.randint(0, 10, size=(ligne , column))\n",
    "\n",
    "x = int (input(\"entrer le valeur de x : \"))\n",
    "liste = []\n",
    "\n",
    "for i in range (ligne) :\n",
    "    for j in range (column) : \n",
    "        if array[i,j] > x :\n",
    "            liste.append(array[i,j])"
   ]
  },
  {
   "cell_type": "code",
   "execution_count": 29,
   "id": "d3d8496c",
   "metadata": {},
   "outputs": [
    {
     "data": {
      "text/plain": [
       "[4, 9, 5, 4, 5, 8, 2, 9, 2, 7, 3, 2, 5, 5]"
      ]
     },
     "execution_count": 29,
     "metadata": {},
     "output_type": "execute_result"
    }
   ],
   "source": [
    "liste"
   ]
  },
  {
   "cell_type": "code",
   "execution_count": 30,
   "id": "93f9e286",
   "metadata": {},
   "outputs": [],
   "source": [
    "#question 4 : \n",
    "\n",
    "#Given two arrays, A & B have the same shape. \n",
    "#The task is to apply addition by hand: C is the new array. \n",
    "\n",
    "A = np.random.randint(0, 10, size=(5 , 5))\n",
    "B = np.random.randint(0, 10, size=(5 , 5))\n",
    "\n",
    "C = np.add(A,B)"
   ]
  },
  {
   "cell_type": "code",
   "execution_count": 35,
   "id": "6af62e95",
   "metadata": {},
   "outputs": [
    {
     "data": {
      "text/plain": [
       "array([[15,  3, 16,  5,  9],\n",
       "       [ 8, 15, 11, 11,  7],\n",
       "       [ 6, 13,  5,  1,  6],\n",
       "       [ 6, 13,  5, 11,  5],\n",
       "       [13,  9, 18,  9,  3]])"
      ]
     },
     "execution_count": 35,
     "metadata": {},
     "output_type": "execute_result"
    }
   ],
   "source": [
    "C"
   ]
  },
  {
   "cell_type": "code",
   "execution_count": 36,
   "id": "6977995f",
   "metadata": {},
   "outputs": [
    {
     "data": {
      "text/plain": [
       "array([ 9.6, 10.6, 11. ,  7.4,  6. ])"
      ]
     },
     "execution_count": 36,
     "metadata": {},
     "output_type": "execute_result"
    }
   ],
   "source": [
    "C.mean(axis=0)"
   ]
  },
  {
   "cell_type": "code",
   "execution_count": 43,
   "id": "86e77ad5",
   "metadata": {},
   "outputs": [
    {
     "name": "stdout",
     "output_type": "stream",
     "text": [
      "entrer le nombre de column : 5\n",
      "entrer le nombre de ligne : 4\n",
      "[3.25 3.25 4.25 5.   4.  ]\n",
      "[[0 0 9 6 9]\n",
      " [8 8 7 3 3]\n",
      " [0 4 0 8 2]\n",
      " [5 1 1 3 2]]\n",
      "[[-3.25 -3.25  4.75  1.    5.  ]\n",
      " [ 4.75  4.75  2.75 -2.   -1.  ]\n",
      " [-3.25  0.75 -4.25  3.   -2.  ]\n",
      " [ 1.75 -2.25 -3.25 -2.   -2.  ]]\n"
     ]
    }
   ],
   "source": [
    "#question 5 :\n",
    "\n",
    "#Write a NumPy program to subtract the mean of each row of a given matrix.\n",
    "#Hint: use the mean function\n",
    "\n",
    "column = int(input(\"entrer le nombre de column : \"))\n",
    "ligne = int(input(\"entrer le nombre de ligne : \"))\n",
    "\n",
    "array = np.random.randint(0, 10, size=(ligne , column))\n",
    "a = array.mean(axis=0)\n",
    "\n",
    "print(a)\n",
    "print(array)\n",
    "print(array - a)\n"
   ]
  },
  {
   "cell_type": "code",
   "execution_count": null,
   "id": "bb3a4a70",
   "metadata": {},
   "outputs": [],
   "source": []
  }
 ],
 "metadata": {
  "kernelspec": {
   "display_name": "Python 3 (ipykernel)",
   "language": "python",
   "name": "python3"
  },
  "language_info": {
   "codemirror_mode": {
    "name": "ipython",
    "version": 3
   },
   "file_extension": ".py",
   "mimetype": "text/x-python",
   "name": "python",
   "nbconvert_exporter": "python",
   "pygments_lexer": "ipython3",
   "version": "3.9.12"
  }
 },
 "nbformat": 4,
 "nbformat_minor": 5
}
